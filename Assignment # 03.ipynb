{
 "cells": [
  {
   "cell_type": "code",
   "execution_count": 3,
   "metadata": {},
   "outputs": [
    {
     "name": "stdout",
     "output_type": "stream",
     "text": [
      "Enter Your First Number40\n",
      "Enter Your Opreator/\n",
      "Enter Your Second Number2\n",
      "Division of  40  &  2  is  20.0\n"
     ]
    }
   ],
   "source": [
    "#Question 01\n",
    "# / = Division\n",
    "# * = Multiplication\n",
    "# + = Addition\n",
    "# - = Subtraction\n",
    "# ** = Power\n",
    "\n",
    "num1 = int(input(\"Enter Your First Number\"))\n",
    "opreator = input(\"Enter Your Opreator\")\n",
    "num2 = int(input(\"Enter Your Second Number\"))\n",
    "\n",
    "if opreator == '+':\n",
    "    result = num1 + num2\n",
    "    print(\"Addition of \",num1,\" & \",num2,\" is \", result)\n",
    "elif opreator == '-':\n",
    "    result = num1 - num2\n",
    "    print(\"Subtraction of \",num1,\" & \",num2,\" is \", result)\n",
    "elif opreator == '*':\n",
    "    result = num1 * num2\n",
    "    print(\"Multiplication of \",num1,\" & \",num2,\" is \", result)\n",
    "elif opreator == '/':\n",
    "    result = num1 / num2\n",
    "    print(\"Division of \",num1,\" & \",num2,\" is \", result)\n",
    "elif opreator == '**':\n",
    "    result = num1 ** num2\n",
    "    print(\"Power of \",num1, \" is \", result)"
   ]
  },
  {
   "cell_type": "code",
   "execution_count": 8,
   "metadata": {},
   "outputs": [
    {
     "name": "stdout",
     "output_type": "stream",
     "text": [
      "25 is a numeric Value in List\n",
      "50 is a numeric Value in List\n",
      "35.5 is a numeric Value in List\n",
      "100 is a numeric Value in List\n",
      "75 is a numeric Value in List\n"
     ]
    }
   ],
   "source": [
    "# Question 02\n",
    "# check if there is any numeric value in list using for loop\n",
    "\n",
    "a = [25,50,35.5,100,75,'a','b','Daniyal']\n",
    "\n",
    "for i in a:\n",
    "    if type(i) == int:\n",
    "        print(i,\"is a numeric Value in List\")\n",
    "    elif type(i) == float:\n",
    "        print(i,\"is a numeric Value in List\")"
   ]
  },
  {
   "cell_type": "code",
   "execution_count": 103,
   "metadata": {},
   "outputs": [
    {
     "name": "stdout",
     "output_type": "stream",
     "text": [
      "Current Dict is:  {'1': 'Daniyal', '2': 'Haider'}\n",
      "Updated Dict is {'1': 'Daniyal', '2': 'Haider', '3': 'Saifullah', '4': 'Rehman', '5': 'Soman'}\n"
     ]
    }
   ],
   "source": [
    "#Question 03\n",
    "#Dictionary = Name of me and my friends\n",
    "\n",
    "\n",
    "dict = {'1':'Daniyal', '2':'Haider'}  \n",
    "print(\"Current Dict is: \", dict)  \n",
    " \n",
    "dict1 = {'3':'Saifullah', '4':'Rehman', '5':'Soman'}  \n",
    "dict.update(dict1)\n",
    "print(\"Updated Dict is\",dict)"
   ]
  },
  {
   "cell_type": "code",
   "execution_count": 85,
   "metadata": {},
   "outputs": [
    {
     "name": "stdout",
     "output_type": "stream",
     "text": [
      "Sum of numeric values in dictionary is: 1100\n"
     ]
    }
   ],
   "source": [
    "#Question 04\n",
    "#Sum up all the values of dict\n",
    "\n",
    "dict = {'a' : 300,'b' : 100,'c' : 500, 'd' : 200}\n",
    "def returnSum(dict): \n",
    "      \n",
    "     sum = 0\n",
    "     for i in dict: \n",
    "           sum = sum + dict[i] \n",
    "       \n",
    "     return sum\n",
    "\n",
    "print(\"Sum of numeric values in dictionary is:\", returnSum(dict))"
   ]
  },
  {
   "cell_type": "code",
   "execution_count": 57,
   "metadata": {},
   "outputs": [
    {
     "name": "stdout",
     "output_type": "stream",
     "text": [
      "list contains repeated values [4, 8, 10, 15, 30]\n"
     ]
    }
   ],
   "source": [
    "#Question 05\n",
    "#Identify if there are repeated values in the list\n",
    "\n",
    "arr = [4, 5, 8, 10, 15, 4, 20, 10, 15, 30, 50, 30, 45, 75, 25, 60, 2, 8]\n",
    "list_range = len(arr)\n",
    "\n",
    "repeated = []\n",
    "for i in range (list_range):\n",
    "    a = i + 1\n",
    "    for b in range(a, list_range):\n",
    "        if arr[i] == arr[b] and arr[i] not in repeated:\n",
    "            repeated.append(arr[i])\n",
    "print('list contains repeated values', repeated)"
   ]
  },
  {
   "cell_type": "code",
   "execution_count": 104,
   "metadata": {},
   "outputs": [
    {
     "name": "stdout",
     "output_type": "stream",
     "text": [
      "Please enter the Key you want to search for: 1\n",
      "Key Exists in this Dictionary\n",
      "Key =  1  Value =  Daniyal\n"
     ]
    }
   ],
   "source": [
    "#Question 06\n",
    "# Python script to check if a given key already exists in a dictionary\n",
    "\n",
    "myDict = {'1':'Daniyal', '2':'Haider', '3':'Saifullah', '4':'Rehman', '5':'Soman'}\n",
    "key = input(\"Please enter the Key you want to search for: \")\n",
    "\n",
    "if key in myDict.keys():\n",
    "    print(\"Key Exists in this Dictionary\")\n",
    "    print(\"Key = \", key, \" Value = \", myDict[key])\n",
    "else:\n",
    "    print(\"Key Does not Exists in this Dictionary\")"
   ]
  },
  {
   "cell_type": "code",
   "execution_count": null,
   "metadata": {},
   "outputs": [],
   "source": []
  }
 ],
 "metadata": {
  "kernelspec": {
   "display_name": "Python 3",
   "language": "python",
   "name": "python3"
  },
  "language_info": {
   "codemirror_mode": {
    "name": "ipython",
    "version": 3
   },
   "file_extension": ".py",
   "mimetype": "text/x-python",
   "name": "python",
   "nbconvert_exporter": "python",
   "pygments_lexer": "ipython3",
   "version": "3.7.4"
  }
 },
 "nbformat": 4,
 "nbformat_minor": 2
}
