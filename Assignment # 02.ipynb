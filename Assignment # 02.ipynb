{
 "cells": [
  {
   "cell_type": "code",
   "execution_count": 1,
   "metadata": {},
   "outputs": [
    {
     "name": "stdout",
     "output_type": "stream",
     "text": [
      "Enter marks scored in Urdu: 77\n",
      "Enter marks scored in English: 80\n",
      "Enter marks scored in Maths: 95\n",
      "Enter marks scored in Islamiat: 96\n",
      "Enter marks scored in Computer: 85\n",
      "Grade: A-1\n"
     ]
    }
   ],
   "source": [
    "urdu=int(input(\"Enter marks scored in Urdu: \"))\n",
    "english=int(input(\"Enter marks scored in English: \"))\n",
    "maths=int(input(\"Enter marks scored in Maths: \"))\n",
    "islamiat=int(input(\"Enter marks scored in Islamiat: \"))\n",
    "computer=int(input(\"Enter marks scored in Computer: \"))\n",
    "avg=(urdu+english+maths+islamiat+computer)/5\n",
    "if(avg>=80):\n",
    "    print(\"Grade: A-1\")\n",
    "elif(avg<80):\n",
    "    print(\"Grade: A\")\n",
    "elif(avg<70):\n",
    "    print(\"Grade: B\")\n",
    "elif(avg<60):\n",
    "    print(\"Grade: C\")\n",
    "else:\n",
    "    print(\"Grade: F\")"
   ]
  },
  {
   "cell_type": "code",
   "execution_count": 2,
   "metadata": {},
   "outputs": [
    {
     "name": "stdout",
     "output_type": "stream",
     "text": [
      "Enter a number: 6\n",
      "This is an even number\n"
     ]
    }
   ],
   "source": [
    "num = int(input(\"Enter a number: \"))\n",
    "value = num % 2\n",
    "if value > 0:\n",
    "    print(\"This is an odd number\")\n",
    "else: \n",
    "    print(\"This is an even number\")"
   ]
  },
  {
   "cell_type": "code",
   "execution_count": 4,
   "metadata": {},
   "outputs": [
    {
     "name": "stdout",
     "output_type": "stream",
     "text": [
      "The Length of the list is:  6\n"
     ]
    }
   ],
   "source": [
    "list=[66,34,33,47,51]\n",
    "print(\"The Length of the list is: \", num)"
   ]
  },
  {
   "cell_type": "code",
   "execution_count": 5,
   "metadata": {},
   "outputs": [
    {
     "name": "stdout",
     "output_type": "stream",
     "text": [
      "How many numbers: 5\n",
      "Enter number 3\n",
      "Enter number 6\n",
      "Enter number 8\n",
      "Enter number 4\n",
      "Enter number 5\n",
      "Sum of elements in given list is : 26\n"
     ]
    }
   ],
   "source": [
    "lst = []\n",
    "num = int(input('How many numbers: '))\n",
    "for n in range(num):\n",
    "    numbers = int(input('Enter number '))\n",
    "    lst.append(numbers)\n",
    "print(\"Sum of elements in given list is :\", sum(lst))"
   ]
  },
  {
   "cell_type": "code",
   "execution_count": 6,
   "metadata": {},
   "outputs": [
    {
     "name": "stdout",
     "output_type": "stream",
     "text": [
      "How many numbers: 4\n",
      "Enter number 23\n",
      "Enter number 20\n",
      "Enter number 47\n",
      "Enter number 10\n",
      "Maximum element in the list is : 47\n"
     ]
    }
   ],
   "source": [
    "num = int(input('How many numbers: '))\n",
    "for n in range(num):\n",
    "    numbers = int(input('Enter number '))\n",
    "    lst.append(numbers)\n",
    "print(\"Maximum element in the list is :\", max(lst))"
   ]
  },
  {
   "cell_type": "code",
   "execution_count": 8,
   "metadata": {},
   "outputs": [
    {
     "name": "stdout",
     "output_type": "stream",
     "text": [
      "[1, 1, 2, 3, 5]\n"
     ]
    }
   ],
   "source": [
    "a = [1,1,2,3,5,8,13,21,34,55,89]\n",
    "num = 5\n",
    "new_list = []\n",
    "for i in a:\n",
    "  if i<=num:\n",
    "    new_list.append(i)\n",
    "print (new_list)"
   ]
  },
  {
   "cell_type": "code",
   "execution_count": null,
   "metadata": {},
   "outputs": [],
   "source": []
  }
 ],
 "metadata": {
  "kernelspec": {
   "display_name": "Python 3",
   "language": "python",
   "name": "python3"
  },
  "language_info": {
   "codemirror_mode": {
    "name": "ipython",
    "version": 3
   },
   "file_extension": ".py",
   "mimetype": "text/x-python",
   "name": "python",
   "nbconvert_exporter": "python",
   "pygments_lexer": "ipython3",
   "version": "3.7.4"
  }
 },
 "nbformat": 4,
 "nbformat_minor": 2
}
